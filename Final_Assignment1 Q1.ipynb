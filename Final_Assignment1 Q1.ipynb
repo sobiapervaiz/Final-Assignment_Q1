{
 "cells": [
  {
   "cell_type": "markdown",
   "metadata": {},
   "source": [
    "### SOBIA PERVAIZ\n",
    "### PIAIC 54512\n",
    "### AI BATCH3\n",
    "### ISLAMABAD"
   ]
  },
  {
   "cell_type": "markdown",
   "metadata": {},
   "source": [
    "### 1. Write a Python program which accepts radius of the circle from the user and computes the area."
   ]
  },
  {
   "cell_type": "code",
   "execution_count": 6,
   "metadata": {},
   "outputs": [
    {
     "name": "stdout",
     "output_type": "stream",
     "text": [
      "Enter the radius of the circle: 0.5\n",
      "Enter the unit of the radius: m\n",
      "0.7853981633974483 m²\n"
     ]
    }
   ],
   "source": [
    "from math import pi\n",
    "\n",
    "r = float(input(\"Enter the radius of the circle: \"))\n",
    "unit = input(\"Enter the unit of the radius: \")\n",
    "\n",
    "\n",
    "area = pi*(r**2)\n",
    "\n",
    "print(area, f\"{unit}\\u00b2\")   # \\u00bs prints m²"
   ]
  },
  {
   "cell_type": "markdown",
   "metadata": {},
   "source": [
    "### 2. Write a python program to check if a number is positive, negative or zero"
   ]
  },
  {
   "cell_type": "code",
   "execution_count": 32,
   "metadata": {},
   "outputs": [
    {
     "name": "stdout",
     "output_type": "stream",
     "text": [
      "Enter the number to be checked: -1\n",
      "-1 is a negative integer\n",
      "Enter the number to be checked: 3\n",
      "3 is a positive integer\n",
      "Enter the number to be checked: 0\n",
      "0 is zero\n"
     ]
    }
   ],
   "source": [
    "for i in range(3):\n",
    "    num = input(\"Enter the number to be checked: \")\n",
    "    number = float(num)\n",
    "    if number > 0:\n",
    "        print(f\"{num} is a positive integer\")\n",
    "    elif number < 0:\n",
    "        print(f\"{num} is a negative integer\")\n",
    "    else:\n",
    "        print(f\"{num} is zero\")"
   ]
  },
  {
   "cell_type": "markdown",
   "metadata": {},
   "source": [
    "### 3. Write a python program to check whether a number is completely divisible by another number. Accept two integer values from the user."
   ]
  },
  {
   "cell_type": "code",
   "execution_count": 52,
   "metadata": {},
   "outputs": [
    {
     "name": "stdout",
     "output_type": "stream",
     "text": [
      "Enter Numerator: 4\n",
      "Enter Denomenator: 2\n",
      "Number4 is completely divisible by 2\n",
      "Enter Numerator: 7\n",
      "Enter Denomenator: 4\n",
      "Number7 is not completely divisible by 4\n"
     ]
    }
   ],
   "source": [
    "\n",
    "for i in range(2):\n",
    "    num = int(input(\"Enter Numerator: \"))\n",
    "    den = int(input(\"Enter Denomenator: \"))\n",
    "    if num % den == 0:\n",
    "        print(f\"Number{num} is completely divisible by {den}\")\n",
    "    else:\n",
    "        print(f\"Number{num} is not completely divisible by {den}\")"
   ]
  },
  {
   "cell_type": "markdown",
   "metadata": {},
   "source": [
    "### 4. Write a python program to calculate number of days between two dates"
   ]
  },
  {
   "cell_type": "code",
   "execution_count": 52,
   "metadata": {},
   "outputs": [
    {
     "name": "stdout",
     "output_type": "stream",
     "text": [
      "Enter date in dd/mm/yy format: 12/12/2018\n",
      "Enter date in dd/mm/yy format: 16/12/2018\n",
      "There are 4 days, 0:00:00 between 12/12/2018 and 16/12/2018\n"
     ]
    }
   ],
   "source": [
    "import datetime \n",
    "\n",
    "date1 = input(\"Enter date in dd/mm/yy format: \")\n",
    "dt1= date1.split(\"/\")\n",
    "date2 = input(\"Enter date in dd/mm/yy format: \")\n",
    "dt2 = date2.split(\"/\")\n",
    "# datetime(year, month, day, hour, minute, second) \n",
    "a = datetime.datetime(int(dt1[2]), int(dt1[1]), int(dt1[0]))\n",
    "b = datetime.datetime(int(dt2[2]), int(dt2[1]), int(dt2[0])) \n",
    "  \n",
    " \n",
    "c = b - a  \n",
    "print(f\"There are {c} between {date1} and {date2}\")"
   ]
  },
  {
   "cell_type": "markdown",
   "metadata": {},
   "source": [
    "### 5. Calculate Volume of a sphere"
   ]
  },
  {
   "cell_type": "code",
   "execution_count": 10,
   "metadata": {},
   "outputs": [
    {
     "name": "stdout",
     "output_type": "stream",
     "text": [
      "Enter the radius of the circle: 1\n",
      "Enter the unit of the radius: m\n",
      "4.19 m³\n"
     ]
    }
   ],
   "source": [
    "from math import pi\n",
    "\n",
    "r = float(input(\"Enter the radius of the circle: \"))\n",
    "unit = input(\"Enter the unit of the radius: \")\n",
    "\n",
    "\n",
    "volume = (4/3)*pi*(r**3)\n",
    "rounded_v = round(volume, 2)  # rounds off volume upto two digits\n",
    "print(rounded_v, f\"{unit}\\u00b3\")   # \\u00bs prints m²"
   ]
  },
  {
   "cell_type": "markdown",
   "metadata": {},
   "source": [
    "### 6. Copy string n times "
   ]
  },
  {
   "cell_type": "code",
   "execution_count": 11,
   "metadata": {},
   "outputs": [
    {
     "name": "stdout",
     "output_type": "stream",
     "text": [
      "Enter string: Hi\n",
      "How many copies do you want? 4\n",
      "HiHiHiHi\n"
     ]
    }
   ],
   "source": [
    "string = input(\"Enter string: \")\n",
    "copy = int(input(\"How many copies do you want? \"))\n",
    "output = string*copy\n",
    "print(output)"
   ]
  },
  {
   "cell_type": "markdown",
   "metadata": {},
   "source": [
    "### 7. Check whether a number is even or odd "
   ]
  },
  {
   "cell_type": "code",
   "execution_count": 1,
   "metadata": {},
   "outputs": [
    {
     "name": "stdout",
     "output_type": "stream",
     "text": [
      "Enter number: 4\n",
      "4 is even\n",
      "Enter number: 9\n",
      "9 is odd\n"
     ]
    }
   ],
   "source": [
    "for i in range(2):\n",
    "    num = int(input(\"Enter number: \"))\n",
    "    if num%2 == 0:\n",
    "        print(f\"{num} is even\")\n",
    "    else:\n",
    "        print(f\"{num} is odd\")"
   ]
  },
  {
   "cell_type": "markdown",
   "metadata": {},
   "source": [
    "### 8. Vowel Tester "
   ]
  },
  {
   "cell_type": "code",
   "execution_count": 6,
   "metadata": {},
   "outputs": [
    {
     "name": "stdout",
     "output_type": "stream",
     "text": [
      "Enter a character: A\n",
      "Letter A is a vowel\n",
      "Enter a character: e\n",
      "Letter e is a vowel\n",
      "Enter a character: N\n",
      "Letter N is not a vowel\n"
     ]
    }
   ],
   "source": [
    "vowel = ['A', 'E', 'I', 'O', 'U', 'a', 'e', 'i', 'o', 'u']\n",
    "for i in range(3):\n",
    "    alphabet = input(\"Enter a character: \")\n",
    "    if alphabet in vowel:\n",
    "        print(f\"Letter {alphabet} is a vowel\")\n",
    "    else:\n",
    "        print(f\"Letter {alphabet} is not a vowel\")"
   ]
  },
  {
   "cell_type": "markdown",
   "metadata": {},
   "source": [
    "### 9. Area of triangle  "
   ]
  },
  {
   "cell_type": "code",
   "execution_count": 2,
   "metadata": {},
   "outputs": [
    {
     "name": "stdout",
     "output_type": "stream",
     "text": [
      "Enter magnitide of Traingle base: 4\n",
      "Enter magnitude of the Triangle height: 4\n",
      "Area of Triangle with Base 4 and Height 4 is 8.0\n"
     ]
    }
   ],
   "source": [
    "bs = input(\"Enter magnitide of Traingle base: \")\n",
    "base = float(bs)\n",
    "ht = input(\"Enter magnitude of the Triangle height: \")\n",
    "height = float(ht)\n",
    "\n",
    "area = (base * height)/2\n",
    "print(f\"Area of Triangle with Base {bs} and Height {ht} is {area}\")"
   ]
  },
  {
   "cell_type": "markdown",
   "metadata": {},
   "source": [
    "### 10. Compute future value of a specified principal amount, rate of interest and number of years"
   ]
  },
  {
   "cell_type": "code",
   "execution_count": 5,
   "metadata": {},
   "outputs": [
    {
     "name": "stdout",
     "output_type": "stream",
     "text": [
      "Please Enter Principal Amount: 10000\n",
      "Please Enter rate of Interest in %: 0.1\n",
      "Please Enter Number of Years of Investment: 5\n",
      "After 5 years, your Principal amount 10000 over an interest rate 0.1% will be 16105.1\n"
     ]
    }
   ],
   "source": [
    "pa = input(\"Please Enter Principal Amount: \")\n",
    "P = float(pa)\n",
    "\n",
    "rate = input(\"Please Enter rate of Interest in %: \")\n",
    "r = float(rate)\n",
    "\n",
    "time = input(\"Please Enter Number of Years of Investment: \")\n",
    "t = float(time)\n",
    "FV = round(P*(1 + r)**t, 1)\n",
    "print(f\"After {time} years, your Principal amount {pa} over an interest rate {rate}% will be {FV}\")"
   ]
  },
  {
   "cell_type": "markdown",
   "metadata": {},
   "source": [
    "### 11. Compute Euclidean Distance between coordinates (x1, y1) and (x2, y2)"
   ]
  },
  {
   "cell_type": "code",
   "execution_count": 9,
   "metadata": {},
   "outputs": [
    {
     "name": "stdout",
     "output_type": "stream",
     "text": [
      "Enter Co-ordinate for x1: 2\n",
      "Enter Co-ordinate for y1: 4\n",
      "Enter Co-ordinate for x2: 4\n",
      "Enter Co-ordinate for y2: 4\n",
      "Distance between (2, 4) and (4, 4) is 2.0\n"
     ]
    }
   ],
   "source": [
    "x1 = int(input(\"Enter Co-ordinate for x1: \"))\n",
    "y1 = int(input(\"Enter Co-ordinate for y1: \"))\n",
    "x2 = int(input(\"Enter Co-ordinate for x2: \"))\n",
    "y2 = int(input(\"Enter Co-ordinate for y2: \"))\n",
    "\n",
    "distance = sqrt((x2 - x1)**2 + (y2 - y1)**2)\n",
    "\n",
    "print(f\"Distance between ({x1}, {y1}) and ({x2}, {y2}) is {distance}\")"
   ]
  },
  {
   "cell_type": "markdown",
   "metadata": {},
   "source": [
    "### 12. Convert height in feet to centimeters "
   ]
  },
  {
   "cell_type": "code",
   "execution_count": 13,
   "metadata": {},
   "outputs": [
    {
     "name": "stdout",
     "output_type": "stream",
     "text": [
      "Enter height in feet: 5\n",
      "There are 152.4 cm in 5 feet\n"
     ]
    }
   ],
   "source": [
    "f = input(\"Enter height in feet: \")\n",
    "feet = float(f)\n",
    "\n",
    "cm = feet * 30.48\n",
    "print(f\"There are {cm} cm in {f} feet\")"
   ]
  },
  {
   "cell_type": "markdown",
   "metadata": {},
   "source": [
    "### 13. Calculate Body Mass Index (BMI) "
   ]
  },
  {
   "cell_type": "code",
   "execution_count": 27,
   "metadata": {},
   "outputs": [
    {
     "name": "stdout",
     "output_type": "stream",
     "text": [
      "Enter Height in cm: 180\n",
      "Enter weight in kg: 75\n",
      "Your BMI is  23.15\n"
     ]
    }
   ],
   "source": [
    "h = input(\"Enter Height in cm: \")\n",
    "height = float(h)/100\n",
    "\n",
    "w = input(\"Enter weight in kg: \")\n",
    "weight = float(w)\n",
    "\n",
    "BMI = round(weight/(height**2),2)\n",
    "print(\"Your BMI is \", BMI)"
   ]
  },
  {
   "cell_type": "markdown",
   "metadata": {},
   "source": [
    "### 14. Sum of first n positive integers "
   ]
  },
  {
   "cell_type": "code",
   "execution_count": 29,
   "metadata": {},
   "outputs": [
    {
     "name": "stdout",
     "output_type": "stream",
     "text": [
      "Enter value of n: 5\n",
      "Sum of n positive integers till 5 is 15\n"
     ]
    }
   ],
   "source": [
    "n = int(input(\"Enter value of n: \"))\n",
    "sum_n = 0\n",
    "for i in range(n+1):\n",
    "    sum_n += i \n",
    "    \n",
    "print(f\"Sum of n positive integers till {n} is {sum_n}\")"
   ]
  },
  {
   "cell_type": "markdown",
   "metadata": {},
   "source": [
    "### 15. Sum of digits in an integer "
   ]
  },
  {
   "cell_type": "code",
   "execution_count": 1,
   "metadata": {},
   "outputs": [
    {
     "name": "stdout",
     "output_type": "stream",
     "text": [
      "Enter the number: 15\n",
      "Sum of digits in 15 is 6\n",
      "Enter the number: 1234\n",
      "Sum of digits in 1234 is 10\n"
     ]
    }
   ],
   "source": [
    "for i in range(2):\n",
    "    num = input(\"Enter the number: \")\n",
    "    dig = 0\n",
    "    for j in num:\n",
    "        dig+=int(j)\n",
    "    print(f\"Sum of digits in {num} is {dig}\")"
   ]
  },
  {
   "cell_type": "markdown",
   "metadata": {},
   "source": [
    "### 16. Decimal to binary conversion "
   ]
  },
  {
   "cell_type": "code",
   "execution_count": 19,
   "metadata": {},
   "outputs": [
    {
     "name": "stdout",
     "output_type": "stream",
     "text": [
      "101"
     ]
    }
   ],
   "source": [
    "def decimalToBinary(n):\n",
    "    if n>1:\n",
    "        decimalToBinary(n//2)\n",
    "    print(n % 2, end = \"\")\n",
    "    \n",
    "decimalToBinary(5)"
   ]
  },
  {
   "cell_type": "code",
   "execution_count": 20,
   "metadata": {},
   "outputs": [
    {
     "name": "stdout",
     "output_type": "stream",
     "text": [
      "100000"
     ]
    }
   ],
   "source": [
    "decimalToBinary(32)"
   ]
  },
  {
   "cell_type": "markdown",
   "metadata": {},
   "source": [
    "### Conversion through built-in function"
   ]
  },
  {
   "cell_type": "code",
   "execution_count": 32,
   "metadata": {},
   "outputs": [
    {
     "data": {
      "text/plain": [
       "'101'"
      ]
     },
     "execution_count": 32,
     "metadata": {},
     "output_type": "execute_result"
    }
   ],
   "source": [
    "bin(5).replace(\"0b\", \"\")"
   ]
  },
  {
   "cell_type": "code",
   "execution_count": 33,
   "metadata": {},
   "outputs": [
    {
     "data": {
      "text/plain": [
       "'100000'"
      ]
     },
     "execution_count": 33,
     "metadata": {},
     "output_type": "execute_result"
    }
   ],
   "source": [
    "bin(32).replace(\"0b\", \"\")"
   ]
  },
  {
   "cell_type": "markdown",
   "metadata": {},
   "source": [
    "### 17. Binary to Decimal Conversion "
   ]
  },
  {
   "cell_type": "code",
   "execution_count": 50,
   "metadata": {},
   "outputs": [
    {
     "name": "stdout",
     "output_type": "stream",
     "text": [
      "Enter a Binary number: 1101\n",
      "Decimal Representation of  1101 is 13\n"
     ]
    }
   ],
   "source": [
    "binary = input(\"Enter a Binary number: \")\n",
    "decimal = 0\n",
    "for digit in binary:\n",
    "    decimal = decimal*2 + int(digit)\n",
    "print(\"Decimal Representation of \",binary, \"is\", decimal)"
   ]
  },
  {
   "cell_type": "markdown",
   "metadata": {},
   "source": [
    "### Conversion through built-in function"
   ]
  },
  {
   "cell_type": "code",
   "execution_count": 43,
   "metadata": {},
   "outputs": [
    {
     "name": "stdout",
     "output_type": "stream",
     "text": [
      "Enter a Binary Number: 1101\n",
      "Decimal Representation of  1101 is 13\n"
     ]
    }
   ],
   "source": [
    "n = input(\"Enter a Binary Number: \")\n",
    "print(\"Decimal Representation of \",n, \"is\", int(n, base = 2))"
   ]
  },
  {
   "cell_type": "code",
   "execution_count": 44,
   "metadata": {},
   "outputs": [
    {
     "name": "stdout",
     "output_type": "stream",
     "text": [
      "Enter a Binary Number: 1001\n",
      "Decimal Representation of  1001 is 9\n"
     ]
    }
   ],
   "source": [
    "n = input(\"Enter a Binary Number: \")\n",
    "print(\"Decimal Representation of \",n, \"is\", int(n, base = 2))"
   ]
  },
  {
   "cell_type": "markdown",
   "metadata": {},
   "source": [
    "### 18. Vowel and consonant counter "
   ]
  },
  {
   "cell_type": "code",
   "execution_count": 6,
   "metadata": {},
   "outputs": [
    {
     "name": "stdout",
     "output_type": "stream",
     "text": [
      "Enter Text: AQuickBrownFoxJumpsOvertheLazyDog\n",
      "consonant 22\n",
      "vowel 11\n"
     ]
    }
   ],
   "source": [
    "vowel = 'aeiou'\n",
    "text = input(\"Enter Text: \").lower()\n",
    "count_v = 0\n",
    "count_c = 0\n",
    "for alphabet in text:\n",
    "    if alphabet in vowel:\n",
    "        count_v += 1\n",
    "\n",
    "    else:\n",
    "        count_c += 1\n",
    "print(\"consonant\", count_c)\n",
    "print(\"vowel\", count_v)"
   ]
  },
  {
   "cell_type": "markdown",
   "metadata": {},
   "source": [
    "### 19. Palindrome Tester "
   ]
  },
  {
   "cell_type": "code",
   "execution_count": 7,
   "metadata": {},
   "outputs": [
    {
     "name": "stdout",
     "output_type": "stream",
     "text": [
      "Enter Text: AHA\n",
      "Text AHA is a palindrome\n",
      "Enter Text: Hello\n",
      "Text Hello is not a palindrome\n"
     ]
    }
   ],
   "source": [
    "for i in range(2):\n",
    "    text = input(\"Enter Text: \")\n",
    "    rev_text = text[::-1]\n",
    "    if text == rev_text:\n",
    "        print(f\"Text {text} is a palindrome\")\n",
    "    else:\n",
    "        print(f\"Text {text} is not a palindrome\")"
   ]
  },
  {
   "cell_type": "markdown",
   "metadata": {},
   "source": [
    "### 20. Count Alphabets, Number, Special Characters and Spaces "
   ]
  },
  {
   "cell_type": "code",
   "execution_count": 214,
   "metadata": {},
   "outputs": [
    {
     "name": "stdout",
     "output_type": "stream",
     "text": [
      "Enter Text: python 3.2\n",
      "Digits= 2 \n",
      "Alphabets= 6 \n",
      "Spaces= 1 \n",
      "Special Characters= 1\n"
     ]
    }
   ],
   "source": [
    "text = input(\"Enter Text: \")\n",
    "count_alpha = 0\n",
    "count_digit = 0\n",
    "count_space = 0\n",
    "count_char = 0\n",
    "\n",
    "for i in range(len(text)):\n",
    "    if (text[i].isalpha()):\n",
    "        count_alpha +=1     \n",
    "    elif (text[i].isdigit()):\n",
    "        count_digit +=1\n",
    "    elif (text[i].isspace()):\n",
    "        count_space +=1\n",
    "    else:\n",
    "        count_char +=1\n",
    "        \n",
    "print(\"Digits=\", count_digit, \"\\nAlphabets=\", count_alpha, \"\\nSpaces=\", count_space, \"\\nSpecial Characters=\", count_char)"
   ]
  },
  {
   "cell_type": "markdown",
   "metadata": {},
   "source": [
    "### 21. Construct Pattern with *"
   ]
  },
  {
   "cell_type": "code",
   "execution_count": 205,
   "metadata": {},
   "outputs": [
    {
     "name": "stdout",
     "output_type": "stream",
     "text": [
      "*\n",
      "**\n",
      "***\n",
      "****\n",
      "*****\n",
      "****\n",
      "***\n",
      "**\n",
      "*\n"
     ]
    }
   ],
   "source": [
    "for i in range(1,10):\n",
    "    if i >= 6:\n",
    "        print(\"*\"*(10-i))\n",
    "    else:\n",
    "        print(\"*\"*i)"
   ]
  },
  {
   "cell_type": "markdown",
   "metadata": {},
   "source": [
    "### 22. Construct Pattern with Numbers"
   ]
  },
  {
   "cell_type": "code",
   "execution_count": 201,
   "metadata": {},
   "outputs": [
    {
     "name": "stdout",
     "output_type": "stream",
     "text": [
      "1\n",
      "1 2\n",
      "1 2 3\n",
      "1 2 3 4\n",
      "1 2 3 4 5\n",
      "1 2 3 4\n",
      "1 2 3\n",
      "1 2\n",
      "1\n"
     ]
    }
   ],
   "source": [
    "for i in range(1,10):\n",
    "    if i>5:\n",
    "        print(*range(1,11-i))\n",
    "    else:\n",
    "        print(*range(1,i+1))\n",
    "    "
   ]
  },
  {
   "cell_type": "markdown",
   "metadata": {},
   "source": [
    "### 23. Construct Pattern with Numbers"
   ]
  },
  {
   "cell_type": "code",
   "execution_count": 140,
   "metadata": {},
   "outputs": [
    {
     "name": "stdout",
     "output_type": "stream",
     "text": [
      "1\n",
      "22\n",
      "333\n",
      "4444\n",
      "55555\n",
      "666666\n",
      "7777777\n",
      "88888888\n",
      "999999999\n"
     ]
    }
   ],
   "source": [
    "for i in range(1,10):\n",
    "        print(str(i)*i, sep = \"\")"
   ]
  },
  {
   "cell_type": "code",
   "execution_count": null,
   "metadata": {},
   "outputs": [],
   "source": []
  }
 ],
 "metadata": {
  "kernelspec": {
   "display_name": "Python 3",
   "language": "python",
   "name": "python3"
  },
  "language_info": {
   "codemirror_mode": {
    "name": "ipython",
    "version": 3
   },
   "file_extension": ".py",
   "mimetype": "text/x-python",
   "name": "python",
   "nbconvert_exporter": "python",
   "pygments_lexer": "ipython3",
   "version": "3.7.4"
  }
 },
 "nbformat": 4,
 "nbformat_minor": 2
}
