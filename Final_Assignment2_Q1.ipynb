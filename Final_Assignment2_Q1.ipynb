{
 "cells": [
  {
   "cell_type": "markdown",
   "metadata": {},
   "source": [
    "## Sobia Pervaiz\n",
    "\n",
    "## PIAIC 54512\n",
    "\n",
    "## Batch 3 Islamabad\n",
    "\n",
    "## Assignment 2 Quarter 1"
   ]
  },
  {
   "cell_type": "markdown",
   "metadata": {},
   "source": [
    "##### 1. Write a program to solve ancient chinese puzzle:We count 35 heads and 94 legs among the chickens and rabbits in a farm. How many rabbits and how many chickens do we have?"
   ]
  },
  {
   "cell_type": "code",
   "execution_count": 10,
   "metadata": {},
   "outputs": [
    {
     "name": "stdout",
     "output_type": "stream",
     "text": [
      "Total Heads: 35\n",
      "Total Legs: 94\n",
      "Number of Chickens are 23 and Number of Rabbits are 12\n"
     ]
    }
   ],
   "source": [
    "def puzzle(heads, legs):\n",
    "    for rabbits in range(heads + 1):\n",
    "        chickens = heads - rabbits\n",
    "        if 2 * chickens + 4 * rabbits == legs:\n",
    "            return chickens, rabbits\n",
    "        \n",
    "heads = int(input(\"Total Heads: \"))\n",
    "legs = int(input(\"Total Legs: \"))\n",
    "\n",
    "\n",
    "program = puzzle(heads, legs)\n",
    "print(f\"Number of Chickens are {program[0]} and Number of Rabbits are {program[1]}\")"
   ]
  },
  {
   "cell_type": "markdown",
   "metadata": {},
   "source": [
    "### 2. Write a program that accepts a string from console and prints the characters that have even indices "
   ]
  },
  {
   "cell_type": "code",
   "execution_count": 7,
   "metadata": {},
   "outputs": [
    {
     "name": "stdout",
     "output_type": "stream",
     "text": [
      "Enter Text: H1e2l3l4o5W6o7r8l9d\n",
      "HelloWorld\n"
     ]
    }
   ],
   "source": [
    "text = input(\"Enter Text: \")\n",
    "print(text[::2])"
   ]
  },
  {
   "cell_type": "markdown",
   "metadata": {},
   "source": [
    "### 3. Write a program that accepts a string from console and prints it in reverse order"
   ]
  },
  {
   "cell_type": "code",
   "execution_count": 8,
   "metadata": {},
   "outputs": [
    {
     "name": "stdout",
     "output_type": "stream",
     "text": [
      "Enter Text: rise to vote sir\n",
      "ris etov ot esir\n"
     ]
    }
   ],
   "source": [
    "text = input(\"Enter Text: \")\n",
    "print(text[::-1])"
   ]
  },
  {
   "cell_type": "markdown",
   "metadata": {},
   "source": [
    "### 4. Write a program which counts and prints the number of occurence of each character in a string input by console"
   ]
  },
  {
   "cell_type": "code",
   "execution_count": 86,
   "metadata": {},
   "outputs": [
    {
     "name": "stdout",
     "output_type": "stream",
     "text": [
      "Enter Text: abcdefabc\n",
      "a 2\n",
      "b 2\n",
      "c 3\n",
      "d 1\n",
      "e 1\n",
      "f 1\n"
     ]
    }
   ],
   "source": [
    "text = input(\"Enter Text: \")\n",
    "d = {}\n",
    "for i in range(len(text)):\n",
    "    d[text[i]] = text.count(text[i])  \n",
    "for key in d:\n",
    "    if d.get(key)>1:\n",
    "        count+=1\n",
    "    d[text[i]] = count \n",
    "\n",
    "for i, j in d.items():\n",
    "    print(i,j)"
   ]
  },
  {
   "cell_type": "markdown",
   "metadata": {},
   "source": [
    "##### 5. Define a class named Shape and its subclass Square. The Square class has an init function which takes length as argument. Both calsses have an area function which can print the area of the shape where shapes's area is 0 by default."
   ]
  },
  {
   "cell_type": "code",
   "execution_count": 82,
   "metadata": {},
   "outputs": [
    {
     "name": "stdout",
     "output_type": "stream",
     "text": [
      "Enter length: 5\n",
      "Area of Shape:  0\n",
      "Area of Square:  25\n"
     ]
    }
   ],
   "source": [
    "length = int(input(\"Enter length: \"))\n",
    "\n",
    "class Shape():\n",
    "    def __init__(self):\n",
    "        self.area = \"0\"\n",
    "    def Area(self):\n",
    "        print(\"Area of Shape: \", self.area)\n",
    "\n",
    "class Square(Shape):\n",
    "    def __init__(self, length):\n",
    "        self.length = length\n",
    "    def Area(self):\n",
    "        area = (self.length)*(self.length)\n",
    "        print(\"Area of Square: \", area)\n",
    "        \n",
    "shape = Shape()\n",
    "square = Square(length)\n",
    "shape.Area()\n",
    "square.Area()"
   ]
  },
  {
   "cell_type": "markdown",
   "metadata": {},
   "source": [
    "#### 6. Write a function to compute 5/0, use try/except to catch the exception "
   ]
  },
  {
   "cell_type": "code",
   "execution_count": 83,
   "metadata": {},
   "outputs": [
    {
     "name": "stdout",
     "output_type": "stream",
     "text": [
      "Exception Caught 5/0\n",
      "try to catch exception\n"
     ]
    }
   ],
   "source": [
    "try:\n",
    "    a = 5/0\n",
    "    print(a)\n",
    "except ZeroDivisionError:\n",
    "    print(\"Exception Caught 5/0\")\n",
    "finally:\n",
    "    print(\"try to catch exception\")"
   ]
  },
  {
   "cell_type": "markdown",
   "metadata": {},
   "source": [
    "#### 7. Assuming that you have an email address in \"username@companyname.com\" format. Write a program to print the username of the given email address. Both username and companyname are composed of letters. "
   ]
  },
  {
   "cell_type": "code",
   "execution_count": 6,
   "metadata": {},
   "outputs": [
    {
     "name": "stdout",
     "output_type": "stream",
     "text": [
      "Enter email address: sobia.pervaiz@yahoo.com\n",
      "sobia.pervaiz\n"
     ]
    }
   ],
   "source": [
    "text = input(\"Enter email address: \")\n",
    "a = text.find(\"@\")\n",
    "print(text[0:a])"
   ]
  },
  {
   "cell_type": "code",
   "execution_count": 7,
   "metadata": {},
   "outputs": [
    {
     "name": "stdout",
     "output_type": "stream",
     "text": [
      "Enter Text: john@google.com\n",
      "john\n"
     ]
    }
   ],
   "source": [
    "import re\n",
    "\n",
    "text = input(\"Enter Text: \")\n",
    "x = re.search(\"john\", text)\n",
    "print(x.group())"
   ]
  },
  {
   "cell_type": "markdown",
   "metadata": {},
   "source": [
    "#### 8. Write a program that accepts a sequence of words separated by whitespaces as input to print the words composed of digits only. "
   ]
  },
  {
   "cell_type": "code",
   "execution_count": 9,
   "metadata": {},
   "outputs": [
    {
     "name": "stdout",
     "output_type": "stream",
     "text": [
      "Enter Text: 2 cats 3 dogs\n",
      "['2', '3']\n"
     ]
    }
   ],
   "source": [
    "import re\n",
    "\n",
    "text = input(\"Enter Text: \")\n",
    "x = re.findall(\"\\d\", text)\n",
    "print(x)"
   ]
  },
  {
   "cell_type": "markdown",
   "metadata": {},
   "source": [
    "#### 9. Write a program to compute 1/2+2/3+3/4+...+n/n+1 with a given n input by console for n>0."
   ]
  },
  {
   "cell_type": "code",
   "execution_count": 8,
   "metadata": {},
   "outputs": [
    {
     "name": "stdout",
     "output_type": "stream",
     "text": [
      "Enter 'n': 5\n",
      "3.55\n"
     ]
    }
   ],
   "source": [
    "n =  int(input(\"Enter 'n': \"))\n",
    "terms = 0\n",
    "for n in range(1,n+1):\n",
    "    terms += (n/(n+1))\n",
    "print(round(terms,2))"
   ]
  },
  {
   "cell_type": "markdown",
   "metadata": {},
   "source": [
    "#### 10. Write a program to compute f(n) = f(n-1) + 100 for n>0 and f(0) = 1 "
   ]
  },
  {
   "cell_type": "code",
   "execution_count": 28,
   "metadata": {},
   "outputs": [
    {
     "name": "stdout",
     "output_type": "stream",
     "text": [
      "Enter n: 5\n"
     ]
    },
    {
     "data": {
      "text/plain": [
       "501"
      ]
     },
     "execution_count": 28,
     "metadata": {},
     "output_type": "execute_result"
    }
   ],
   "source": [
    "n = int(input(\"Enter n: \"))\n",
    "\n",
    "def f(n):\n",
    "    x = 0\n",
    "    if n == 0:\n",
    "        return  1\n",
    "    else:\n",
    "        for n in range(1,n+1):\n",
    "            x = (f(n-1) + 100) \n",
    "        return x\n",
    "    \n",
    "f(n)"
   ]
  },
  {
   "cell_type": "markdown",
   "metadata": {},
   "source": [
    "#### 11. Write a program to check the validity of passwords with the given criteria"
   ]
  },
  {
   "cell_type": "code",
   "execution_count": 77,
   "metadata": {},
   "outputs": [
    {
     "name": "stdout",
     "output_type": "stream",
     "text": [
      "Enter Comma Separated passwords: ABCDEF123@, FGT%, lkj, SOBIA123#\n",
      "ABCDEF123@\n",
      " SOBIA123#\n"
     ]
    }
   ],
   "source": [
    "pwd = input(\"Enter Comma Separated passwords: \").split(\",\")\n",
    "\n",
    "digit = [chr(i) for i in range(48, 58)]\n",
    "alpha_lower = [chr(j) for j in range(97, 123)]\n",
    "alpha_upper = [chr(k) for k in range(65, 91)]\n",
    "char = ['$', '@', '#']\n",
    "\n",
    "for elem in pwd:\n",
    "    if 6<=len(elem)<=12 :\n",
    "        if (elem[n] in digit) or (elem[n] in alpha_lower) or (elem[n] in alpha_upper) or (elem[n] in char) :\n",
    "            print(elem) "
   ]
  },
  {
   "cell_type": "markdown",
   "metadata": {},
   "source": [
    "#### 12. Write a program to sort (name, age, height) tuples in ascending order."
   ]
  },
  {
   "cell_type": "code",
   "execution_count": 39,
   "metadata": {},
   "outputs": [
    {
     "name": "stdout",
     "output_type": "stream",
     "text": [
      "Enter name, age, height: Tom, 19, 80\n",
      "Enter name, age, height: John, 20, 90\n",
      "Enter name, age, height: Jony, 17, 91\n",
      "Enter name, age, height: Jony, 17, 93\n",
      "Enter name, age, height: Json, 21, 85\n",
      "[('John', 20, 90), ('Jony', 17, 91), ('Jony', 17, 93), ('Json', 21, 85), ('Tom', 19, 80)]\n"
     ]
    }
   ],
   "source": [
    "from operator import itemgetter\n",
    "\n",
    "tup1 = input(\"Enter name, age, height: \").split(\",\")   # takes input for 5 persons as list\n",
    "tup2 = input(\"Enter name, age, height: \").split(\",\")\n",
    "tup3 = input(\"Enter name, age, height: \").split(\",\")\n",
    "tup4 = input(\"Enter name, age, height: \").split(\",\")\n",
    "tup5 = input(\"Enter name, age, height: \").split(\",\")\n",
    "\n",
    "for i in range(1,3):\n",
    "    tup1[i] = int(tup1[i])   # converts string value of age, height to int type\n",
    "    tup2[i] = int(tup2[i])\n",
    "    tup3[i] = int(tup3[i])\n",
    "    tup4[i] = int(tup4[i])\n",
    "    tup5[i] = int(tup5[i])\n",
    "\n",
    "tup1 = tuple(tup1)     # converts the list type of input to tuple type\n",
    "tup2 = tuple(tup2)\n",
    "tup3 = tuple(tup3)\n",
    "tup4 = tuple(tup4)\n",
    "tup5 = tuple(tup5)\n",
    "\n",
    "lst = [tup1, tup2, tup3, tup4, tup5]  # creates the list of tuples\n",
    "\n",
    "key = sorted(lst, key = itemgetter(0,1,2))   # sorts the list if tuples as name>age>height\n",
    "\n",
    "print(key)  # prints the list of tuples in ascending order"
   ]
  },
  {
   "cell_type": "markdown",
   "metadata": {},
   "source": [
    "#### 13. Define a class with a generator which can iterate the numbers, which are divisible by 7, between a given range of 0 and n."
   ]
  },
  {
   "cell_type": "code",
   "execution_count": 107,
   "metadata": {},
   "outputs": [
    {
     "name": "stdout",
     "output_type": "stream",
     "text": [
      "Enter n: 75\n",
      "0\n",
      "7\n",
      "14\n",
      "21\n",
      "28\n",
      "35\n",
      "42\n",
      "49\n",
      "56\n",
      "63\n",
      "70\n"
     ]
    }
   ],
   "source": [
    "n = int(input(\"Enter n: \"))\n",
    "\n",
    "def division(n):\n",
    "    for n in range(0, n+1):\n",
    "        if n%7 == 0:\n",
    "            yield n\n",
    "        \n",
    "a = division(n)\n",
    "try:\n",
    "    while True:\n",
    "        print(next(a))\n",
    "except StopIteration:\n",
    "    pass"
   ]
  },
  {
   "cell_type": "markdown",
   "metadata": {},
   "source": [
    "#### 14. Write a program to compute the distance of robot from current position after a sequence of steps and its orignal position  "
   ]
  },
  {
   "cell_type": "code",
   "execution_count": 9,
   "metadata": {},
   "outputs": [
    {
     "name": "stdout",
     "output_type": "stream",
     "text": [
      "Enter movesup 5\n",
      "Enter moves down 3\n",
      "Enter moves left 3\n",
      "Enter moves right 2\n",
      "2\n"
     ]
    }
   ],
   "source": [
    "from math import sqrt\n",
    "\n",
    "up = (input(\"Enter moves\")).split(\" \")\n",
    "down = (input(\"Enter moves \")).split(\" \")\n",
    "left = (input(\"Enter moves \")).split(\" \")\n",
    "right = (input(\"Enter moves \")).split(\" \")\n",
    "\n",
    "pos = [0, 0]\n",
    "\n",
    "up[1] = (int(up[1]))-pos[0]\n",
    "down[1] = int(down[1]) - pos[1]\n",
    "left[1] = int(left[1]) - pos[0]\n",
    "right[1] = int(right[1]) - pos[1]\n",
    "\n",
    "distance = sqrt(((up[1]-down[1])**2)+((right[1]-left[1])**2))\n",
    "print(round(distance))"
   ]
  },
  {
   "cell_type": "markdown",
   "metadata": {},
   "source": [
    "#### 15. Write a program to compute the frequency of the words in input after sorting the keys alphanumerically"
   ]
  },
  {
   "cell_type": "code",
   "execution_count": 32,
   "metadata": {},
   "outputs": [
    {
     "name": "stdout",
     "output_type": "stream",
     "text": [
      "Enter text: New to Python or choosing between Python 2 or Python 3? Read Python 2 or Python 3.\n"
     ]
    },
    {
     "data": {
      "text/plain": [
       "Counter({'2': 2,\n",
       "         '3.': 1,\n",
       "         '3?': 1,\n",
       "         'New': 1,\n",
       "         'Python': 5,\n",
       "         'Read': 1,\n",
       "         'between': 1,\n",
       "         'choosing': 1,\n",
       "         'or': 3,\n",
       "         'to': 1})"
      ]
     },
     "execution_count": 32,
     "metadata": {},
     "output_type": "execute_result"
    }
   ],
   "source": [
    "from collections import Counter  # import from Module\n",
    "\n",
    "text = input(\"Enter text: \").split()\n",
    "\n",
    "text.sort(key = str)  # sort input alphanumerically\n",
    "\n",
    "Counter(text)  # use Counter built-in function"
   ]
  }
 ],
 "metadata": {
  "kernelspec": {
   "display_name": "Python 3",
   "language": "python",
   "name": "python3"
  },
  "language_info": {
   "codemirror_mode": {
    "name": "ipython",
    "version": 3
   },
   "file_extension": ".py",
   "mimetype": "text/x-python",
   "name": "python",
   "nbconvert_exporter": "python",
   "pygments_lexer": "ipython3",
   "version": "3.7.4"
  }
 },
 "nbformat": 4,
 "nbformat_minor": 2
}
